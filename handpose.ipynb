{
 "cells": [
  {
   "cell_type": "code",
   "execution_count": 1,
   "metadata": {},
   "outputs": [],
   "source": [
    "import cv2\n",
    "import time\n",
    "import numpy as np"
   ]
  },
  {
   "cell_type": "code",
   "execution_count": 2,
   "metadata": {},
   "outputs": [],
   "source": [
    "protoFile = \"pose_deploy.prototxt\"\n",
    "weightsFile = \"pose_iter_102000.caffemodel\"\n",
    "nPoints = 22\n",
    "POSE_PAIRS = [ [0,1],[1,2],[2,3],[3,4],[0,5],[5,6],[6,7],[7,8],[0,9],[9,10],[10,11],[11,12],[0,13],[13,14],[14,15],[15,16],[0,17],[17,18],[18,19],[19,20] ]"
   ]
  },
  {
   "cell_type": "code",
   "execution_count": 3,
   "metadata": {},
   "outputs": [],
   "source": [
    "threshold = 0.2"
   ]
  },
  {
   "cell_type": "code",
   "execution_count": 4,
   "metadata": {},
   "outputs": [],
   "source": [
    "#input_source = \"asl.mp4\"\n",
    "cap = cv2.VideoCapture(0)\n",
    "hasFrame, frame = cap.read()"
   ]
  },
  {
   "cell_type": "code",
   "execution_count": 5,
   "metadata": {},
   "outputs": [],
   "source": [
    "frameWidth = frame.shape[1]\n",
    "frameHeight = frame.shape[0]"
   ]
  },
  {
   "cell_type": "code",
   "execution_count": 6,
   "metadata": {},
   "outputs": [],
   "source": [
    "aspect_ratio = frameWidth/frameHeight"
   ]
  },
  {
   "cell_type": "code",
   "execution_count": 7,
   "metadata": {},
   "outputs": [],
   "source": [
    "inHeight = 368\n",
    "inWidth = int(((aspect_ratio*inHeight)*8)//8)"
   ]
  },
  {
   "cell_type": "code",
   "execution_count": 8,
   "metadata": {},
   "outputs": [],
   "source": [
    "vid_writer = cv2.VideoWriter('output.avi',cv2.VideoWriter_fourcc('M','J','P','G'), 15, (frame.shape[1],frame.shape[0]))"
   ]
  },
  {
   "cell_type": "code",
   "execution_count": 9,
   "metadata": {
    "tags": []
   },
   "outputs": [
    {
     "output_type": "stream",
     "name": "stdout",
     "text": "forward = 1.8168208599090576\nTime Taken for frame = 1.8402209281921387\ntotal = 2.0795695781707764\nforward = 1.874178171157837\nTime Taken for frame = 1.8981142044067383\ntotal = 1.9031007289886475\nforward = 1.9398298263549805\nTime Taken for frame = 1.968750238418579\ntotal = 1.9757318496704102\nforward = 1.9616422653198242\nTime Taken for frame = 1.9844944477081299\ntotal = 1.98948335647583\nforward = 2.044790506362915\nTime Taken for frame = 2.0687267780303955\ntotal = 2.0767054557800293\nforward = 1.88893723487854\nTime Taken for frame = 1.911862850189209\ntotal = 1.917846441268921\nforward = 1.751481533050537\nTime Taken for frame = 1.776418924331665\ntotal = 1.7814044952392578\nforward = 1.7456669807434082\nTime Taken for frame = 1.7696027755737305\ntotal = 1.7745890617370605\nforward = 1.7480709552764893\nTime Taken for frame = 1.7733919620513916\ntotal = 1.77838134765625\nforward = 1.7316617965698242\nTime Taken for frame = 1.7585899829864502\ntotal = 1.7635760307312012\nforward = 1.7669677734375\nTime Taken for frame = 1.7909033298492432\ntotal = 1.7958896160125732\nforward = 1.7451043128967285\nTime Taken for frame = 1.7700378894805908\ntotal = 1.775026559829712\nforward = 1.7294855117797852\nTime Taken for frame = 1.7534210681915283\ntotal = 1.7584106922149658\nforward = 1.7884070873260498\nTime Taken for frame = 1.8143370151519775\ntotal = 1.819326639175415\nforward = 1.7555761337280273\nTime Taken for frame = 1.7795121669769287\ntotal = 1.7845005989074707\nforward = 1.7301595211029053\nTime Taken for frame = 1.7560923099517822\ntotal = 1.7610890865325928\nforward = 1.7635018825531006\nTime Taken for frame = 1.788517951965332\ntotal = 1.7940971851348877\nforward = 1.8291354179382324\nTime Taken for frame = 1.853071689605713\ntotal = 1.8580577373504639\nforward = 1.7931222915649414\nTime Taken for frame = 1.8170585632324219\ntotal = 1.823044776916504\nforward = 1.7987353801727295\nTime Taken for frame = 1.82167387008667\ntotal = 1.8272345066070557\nforward = 1.7471177577972412\nTime Taken for frame = 1.7720692157745361\ntotal = 1.7770581245422363\nforward = 1.8170092105865479\nTime Taken for frame = 1.840944528579712\ntotal = 1.846930980682373\nforward = 1.7723479270935059\nTime Taken for frame = 1.797281265258789\ntotal = 1.8022713661193848\nforward = 1.7857210636138916\nTime Taken for frame = 1.810654878616333\ntotal = 1.816640853881836\nforward = 1.8570351600646973\nTime Taken for frame = 1.8829655647277832\ntotal = 1.8879542350769043\nforward = 1.8078386783599854\nTime Taken for frame = 1.8331890106201172\ntotal = 1.8381783962249756\nforward = 1.823800802230835\nTime Taken for frame = 1.8526740074157715\ntotal = 1.8586575984954834\nforward = 1.8083429336547852\nTime Taken for frame = 1.833350658416748\ntotal = 1.8383409976959229\nforward = 1.7882397174835205\nTime Taken for frame = 1.8141703605651855\ntotal = 1.819157600402832\nforward = 1.8605329990386963\nTime Taken for frame = 1.8854663372039795\ntotal = 1.8904547691345215\nforward = 1.8481419086456299\nTime Taken for frame = 1.8730745315551758\ntotal = 1.878063440322876\nforward = 1.7654964923858643\nTime Taken for frame = 1.790428638458252\ntotal = 1.7954154014587402\nforward = 1.803868055343628\nTime Taken for frame = 1.827803611755371\ntotal = 1.832794189453125\nforward = 1.7591347694396973\nTime Taken for frame = 1.7841339111328125\ntotal = 1.7901201248168945\nforward = 1.8151123523712158\nTime Taken for frame = 1.8410425186157227\ntotal = 1.8460330963134766\nforward = 1.849937915802002\nTime Taken for frame = 1.8738737106323242\ntotal = 1.8788602352142334\nforward = 1.760801076889038\nTime Taken for frame = 1.7857334613800049\ntotal = 1.791717290878296\nforward = 1.843932867050171\nTime Taken for frame = 1.867870569229126\ntotal = 1.8738529682159424\nforward = 1.846954345703125\nTime Taken for frame = 1.8711206912994385\ntotal = 1.8771049976348877\nforward = 1.8557438850402832\nTime Taken for frame = 1.8796801567077637\ntotal = 1.8846688270568848\nforward = 1.8382833003997803\nTime Taken for frame = 1.8632166385650635\ntotal = 1.8692002296447754\nforward = 1.8687903881072998\nTime Taken for frame = 1.8937325477600098\ntotal = 1.899721384048462\nforward = 1.859255075454712\nTime Taken for frame = 1.8861820697784424\ntotal = 1.8921661376953125\nforward = 1.890014886856079\nTime Taken for frame = 1.9179389476776123\ntotal = 1.9229261875152588\nforward = 1.7955026626586914\nTime Taken for frame = 1.8194382190704346\ntotal = 1.8254239559173584\nforward = 1.768676996231079\nTime Taken for frame = 1.7926130294799805\ntotal = 1.7985985279083252\nforward = 1.7669572830200195\nTime Taken for frame = 1.7918896675109863\ntotal = 1.7978763580322266\nforward = 1.748598575592041\nTime Taken for frame = 1.7745287418365479\ntotal = 1.7795259952545166\nforward = 1.8007631301879883\nTime Taken for frame = 1.8256957530975342\ntotal = 1.8306851387023926\nforward = 1.786980390548706\nTime Taken for frame = 1.8119137287139893\ntotal = 1.8169033527374268\nforward = 1.815737009048462\nTime Taken for frame = 1.8406693935394287\ntotal = 1.845658540725708\nforward = 1.8735220432281494\nTime Taken for frame = 1.9054365158081055\ntotal = 1.9114203453063965\nforward = 2.0448880195617676\nTime Taken for frame = 2.070817708969116\ntotal = 2.075807571411133\nforward = 1.8151061534881592\nTime Taken for frame = 1.8436059951782227\ntotal = 1.8485925197601318\nforward = 1.8396923542022705\nTime Taken for frame = 1.8646252155303955\ntotal = 1.8696138858795166\nforward = 1.813966989517212\nTime Taken for frame = 1.8389766216278076\ntotal = 1.8439648151397705\nforward = 1.807687520980835\nTime Taken for frame = 1.832620620727539\ntotal = 1.837174415588379\nforward = 1.7927579879760742\nTime Taken for frame = 1.8186886310577393\ntotal = 1.8236780166625977\nforward = 1.7947807312011719\nTime Taken for frame = 1.8202197551727295\ntotal = 1.8252086639404297\nforward = 1.7956407070159912\nTime Taken for frame = 1.8205740451812744\ntotal = 1.8265609741210938\nforward = 1.8415727615356445\nTime Taken for frame = 1.8665060997009277\ntotal = 1.8714921474456787\nforward = 1.7997004985809326\nTime Taken for frame = 1.822638750076294\ntotal = 1.8286261558532715\nforward = 1.8675298690795898\nTime Taken for frame = 1.892462968826294\n"
    }
   ],
   "source": [
    "net = cv2.dnn.readNetFromCaffe(protoFile, weightsFile)\n",
    "k = 0\n",
    "while 1:\n",
    "    k+=1\n",
    "    t = time.time()\n",
    "    hasFrame, frame = cap.read()\n",
    "    frameCopy = np.copy(frame)\n",
    "    if not hasFrame:\n",
    "        cv2.waitKey()\n",
    "        break\n",
    "\n",
    "    inpBlob = cv2.dnn.blobFromImage(frame, 1.0 / 255, (inWidth, inHeight),\n",
    "                              (0, 0, 0), swapRB=False, crop=False)\n",
    "\n",
    "    net.setInput(inpBlob)\n",
    "\n",
    "    output = net.forward()\n",
    "\n",
    "    print(\"forward = {}\".format(time.time() - t))\n",
    "\n",
    "    # Empty list to store the detected keypoints\n",
    "    points = []\n",
    "\n",
    "    for i in range(nPoints):\n",
    "        # confidence map of corresponding body's part.\n",
    "        probMap = output[0, i, :, :]\n",
    "        probMap = cv2.resize(probMap, (frameWidth, frameHeight))\n",
    "\n",
    "        # Find global maxima of the probMap.\n",
    "        minVal, prob, minLoc, point = cv2.minMaxLoc(probMap)\n",
    "\n",
    "        if prob > threshold :\n",
    "            cv2.circle(frameCopy, (int(point[0]), int(point[1])), 6, (0, 255, 255), thickness=-1, lineType=cv2.FILLED)\n",
    "            cv2.putText(frameCopy, \"{}\".format(i), (int(point[0]), int(point[1])), cv2.FONT_HERSHEY_SIMPLEX, .8, (0, 0, 255), 2, lineType=cv2.LINE_AA)\n",
    "\n",
    "            # Add the point to the list if the probability is greater than the threshold\n",
    "            points.append((int(point[0]), int(point[1])))\n",
    "        else :\n",
    "            points.append(None)\n",
    "\n",
    "    # Draw Skeleton\n",
    "    for pair in POSE_PAIRS:\n",
    "        partA = pair[0]\n",
    "        partB = pair[1]\n",
    "\n",
    "        if points[partA] and points[partB]:\n",
    "            cv2.line(frame, points[partA], points[partB], (0, 255, 255), 2, lineType=cv2.LINE_AA)\n",
    "            cv2.circle(frame, points[partA], 5, (0, 0, 255), thickness=-1, lineType=cv2.FILLED)\n",
    "            cv2.circle(frame, points[partB], 5, (0, 0, 255), thickness=-1, lineType=cv2.FILLED)\n",
    "\n",
    "    print(\"Time Taken for frame = {}\".format(time.time() - t))\n",
    "\n",
    "    # cv2.putText(frame, \"time taken = {:.2f} sec\".format(time.time() - t), (50, 50), cv2.FONT_HERSHEY_COMPLEX, .8, (255, 50, 0), 2, lineType=cv2.LINE_AA)\n",
    "    # cv2.putText(frame, \"Hand Pose using OpenCV\", (50, 50), cv2.FONT_HERSHEY_COMPLEX, 1, (255, 50, 0), 2, lineType=cv2.LINE_AA)\n",
    "    cv2.imshow('Output-Skeleton', frame)\n",
    "    # cv2.imwrite(\"video_output/{:03d}.jpg\".format(k), frame)\n",
    "    key = cv2.waitKey(1)\n",
    "    if key == 27:\n",
    "        break\n",
    "\n",
    "    print(\"total = {}\".format(time.time() - t))\n",
    "\n",
    "    vid_writer.write(frame)\n"
   ]
  },
  {
   "cell_type": "code",
   "execution_count": null,
   "metadata": {},
   "outputs": [],
   "source": []
  },
  {
   "cell_type": "code",
   "execution_count": null,
   "metadata": {},
   "outputs": [],
   "source": []
  }
 ],
 "metadata": {
  "language_info": {
   "codemirror_mode": {
    "name": "ipython",
    "version": 3
   },
   "file_extension": ".py",
   "mimetype": "text/x-python",
   "name": "python",
   "nbconvert_exporter": "python",
   "pygments_lexer": "ipython3",
   "version": "3.6.10-final"
  },
  "orig_nbformat": 2,
  "kernelspec": {
   "name": "python36864bitdigimlconda3c7e5e30a2fd4ef4a0cf7dcee33fdf94",
   "display_name": "Python 3.6.8 64-bit ('digiml': conda)"
  }
 },
 "nbformat": 4,
 "nbformat_minor": 2
}